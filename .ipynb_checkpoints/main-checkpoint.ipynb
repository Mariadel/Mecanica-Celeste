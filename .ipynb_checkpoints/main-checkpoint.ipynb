{
 "cells": [
  {
   "cell_type": "code",
   "execution_count": 4,
   "metadata": {
    "collapsed": false
   },
   "outputs": [
    {
     "name": "stdout",
     "output_type": "stream",
     "text": [
      "Información para  Mercurio  en el día  1\n",
      "Posición:  [ 0.25163958  0.17690491]\n",
      "Distancia al Sol:  0.307600108018\n",
      "Vector velocidad:  [-0.01904493  0.02820921]\n",
      "Módulo del vector velocidad:  0.0340362903796\n",
      "Anomalía real:  0.110785950253\n",
      "Energía total (expresión en función del tiempo):  -0.00038201682181\n",
      "Energía total (expresión constante):  -0.00038201682181\n",
      "Momento angular (expresión en función del tiempo):  [ 0.         0.         0.0104677]\n",
      "Momento angular (expresión constante):  [ 0.         0.         0.0104677]\n",
      "Para una anomalía excéntrica de  0.0 la anomalía real es:  0.0\n",
      "Anomalía excéntrica (mediante el método de Newton-Raphson):  0.0899234598037\n",
      "Anomalía excéntrica (mediante funciones de Bessel):  0.0899225694131\n",
      "La diferencia obtenida entre ambos métodos es:  8.90390609548e-07\n"
     ]
    },
    {
     "data": {
      "application/vnd.plotly.v1+json": {
       "data": [
        {
         "marker": {
          "color": "rgb(250, 250, 0)",
          "line": {
           "color": "rgb(100,100,0)",
           "width": 1
          },
          "size": 35
         },
         "mode": "markers",
         "name": "Sol",
         "type": "scattergl",
         "x": [
          0
         ],
         "y": [
          0
         ]
        },
        {
         "marker": {
          "color": "rgb(0,0,0)",
          "line": {
           "width": 0
          },
          "size": 6
         },
         "mode": "markers",
         "name": "órbita de Mercurio",
         "type": "scattergl",
         "x": [
          0.2693730444479087,
          0.1737123921667021,
          0.04608775046487232,
          -0.08941846283394865,
          -0.21396887882532467,
          -0.31640314400762126,
          -0.3914683843936624,
          -0.4374963935848515,
          -0.45478257850589116,
          -0.4446769026725167,
          -0.40914847809090404,
          -0.35063993094929924,
          -0.2721139572850534,
          -0.1772586990663116,
          -0.0708616080695319,
          0.040616929312841527,
          0.14826935584560827,
          0.23995704538281787,
          0.30029906781794435,
          0.3132903282015748
         ],
         "y": [
          0.14784428365298752,
          0.26080057483324715,
          0.32664365096499803,
          0.3413731740148751,
          0.31197050637352897,
          0.24956414115260767,
          0.16519964279221952,
          0.06837431061296118,
          -0.033065498549452454,
          -0.13258525797452236,
          -0.22455945350819004,
          -0.30392110362142377,
          -0.3658886649753707,
          -0.40578010591559044,
          -0.41894755096582337,
          -0.40092826682630134,
          -0.3480294183971391,
          -0.2587506943057829,
          -0.13653067540420907,
          0.006488858218498317
         ]
        },
        {
         "marker": {
          "color": "rgb(250, 100, 0)",
          "line": {
           "color": "rgb(250,100,0)",
           "width": 1
          },
          "size": 25
         },
         "mode": "markers",
         "name": "Mercurio",
         "type": "scattergl",
         "x": [
          0.2516395788134458
         ],
         "y": [
          0.17690491465004607
         ]
        }
       ],
       "layout": {
        "height": 700,
        "width": 1000,
        "xaxis": {
         "anchor": "y",
         "range": [
          0,
          0
         ]
        },
        "yaxis": {
         "anchor": "x",
         "autorange": false,
         "range": [
          0,
          0
         ]
        }
       }
      },
      "text/html": [
       "<div id=\"cd633365-3d9c-4b4c-87b8-5423ced2ff07\" style=\"height: 700px; width: 1000px;\" class=\"plotly-graph-div\"></div><script type=\"text/javascript\">require([\"plotly\"], function(Plotly) { window.PLOTLYENV=window.PLOTLYENV || {};window.PLOTLYENV.BASE_URL=\"https://plot.ly\";Plotly.newPlot(\"cd633365-3d9c-4b4c-87b8-5423ced2ff07\", [{\"type\": \"scattergl\", \"x\": [0], \"y\": [0], \"name\": \"Sol\", \"mode\": \"markers\", \"marker\": {\"size\": 35, \"color\": \"rgb(250, 250, 0)\", \"line\": {\"width\": 1, \"color\": \"rgb(100,100,0)\"}}}, {\"type\": \"scattergl\", \"x\": [0.2693730444479087, 0.1737123921667021, 0.04608775046487232, -0.08941846283394865, -0.21396887882532467, -0.31640314400762126, -0.3914683843936624, -0.4374963935848515, -0.45478257850589116, -0.4446769026725167, -0.40914847809090404, -0.35063993094929924, -0.2721139572850534, -0.1772586990663116, -0.0708616080695319, 0.040616929312841527, 0.14826935584560827, 0.23995704538281787, 0.30029906781794435, 0.3132903282015748], \"y\": [0.14784428365298752, 0.26080057483324715, 0.32664365096499803, 0.3413731740148751, 0.31197050637352897, 0.24956414115260767, 0.16519964279221952, 0.06837431061296118, -0.033065498549452454, -0.13258525797452236, -0.22455945350819004, -0.30392110362142377, -0.3658886649753707, -0.40578010591559044, -0.41894755096582337, -0.40092826682630134, -0.3480294183971391, -0.2587506943057829, -0.13653067540420907, 0.006488858218498317], \"name\": \"\\u00f3rbita de Mercurio\", \"mode\": \"markers\", \"marker\": {\"color\": \"rgb(0,0,0)\", \"size\": 6, \"line\": {\"width\": 0}}}, {\"type\": \"scattergl\", \"x\": [0.2516395788134458], \"y\": [0.17690491465004607], \"name\": \"Mercurio\", \"mode\": \"markers\", \"marker\": {\"size\": 25, \"color\": \"rgb(250, 100, 0)\", \"line\": {\"width\": 1, \"color\": \"rgb(250,100,0)\"}}}], {\"width\": 1000, \"height\": 700, \"xaxis\": {\"anchor\": \"y\", \"range\": [0, 0]}, \"yaxis\": {\"anchor\": \"x\", \"autorange\": false, \"range\": [0, 0]}}, {\"showLink\": true, \"linkText\": \"Export to plot.ly\"})});</script>"
      ],
      "text/vnd.plotly.v1+html": [
       "<div id=\"cd633365-3d9c-4b4c-87b8-5423ced2ff07\" style=\"height: 700px; width: 1000px;\" class=\"plotly-graph-div\"></div><script type=\"text/javascript\">require([\"plotly\"], function(Plotly) { window.PLOTLYENV=window.PLOTLYENV || {};window.PLOTLYENV.BASE_URL=\"https://plot.ly\";Plotly.newPlot(\"cd633365-3d9c-4b4c-87b8-5423ced2ff07\", [{\"type\": \"scattergl\", \"x\": [0], \"y\": [0], \"name\": \"Sol\", \"mode\": \"markers\", \"marker\": {\"size\": 35, \"color\": \"rgb(250, 250, 0)\", \"line\": {\"width\": 1, \"color\": \"rgb(100,100,0)\"}}}, {\"type\": \"scattergl\", \"x\": [0.2693730444479087, 0.1737123921667021, 0.04608775046487232, -0.08941846283394865, -0.21396887882532467, -0.31640314400762126, -0.3914683843936624, -0.4374963935848515, -0.45478257850589116, -0.4446769026725167, -0.40914847809090404, -0.35063993094929924, -0.2721139572850534, -0.1772586990663116, -0.0708616080695319, 0.040616929312841527, 0.14826935584560827, 0.23995704538281787, 0.30029906781794435, 0.3132903282015748], \"y\": [0.14784428365298752, 0.26080057483324715, 0.32664365096499803, 0.3413731740148751, 0.31197050637352897, 0.24956414115260767, 0.16519964279221952, 0.06837431061296118, -0.033065498549452454, -0.13258525797452236, -0.22455945350819004, -0.30392110362142377, -0.3658886649753707, -0.40578010591559044, -0.41894755096582337, -0.40092826682630134, -0.3480294183971391, -0.2587506943057829, -0.13653067540420907, 0.006488858218498317], \"name\": \"\\u00f3rbita de Mercurio\", \"mode\": \"markers\", \"marker\": {\"color\": \"rgb(0,0,0)\", \"size\": 6, \"line\": {\"width\": 0}}}, {\"type\": \"scattergl\", \"x\": [0.2516395788134458], \"y\": [0.17690491465004607], \"name\": \"Mercurio\", \"mode\": \"markers\", \"marker\": {\"size\": 25, \"color\": \"rgb(250, 100, 0)\", \"line\": {\"width\": 1, \"color\": \"rgb(250,100,0)\"}}}], {\"width\": 1000, \"height\": 700, \"xaxis\": {\"anchor\": \"y\", \"range\": [0, 0]}, \"yaxis\": {\"anchor\": \"x\", \"autorange\": false, \"range\": [0, 0]}}, {\"showLink\": true, \"linkText\": \"Export to plot.ly\"})});</script>"
      ]
     },
     "metadata": {},
     "output_type": "display_data"
    }
   ],
   "source": [
    "import plotly\n",
    "from aux import *\n",
    "from Planets_script import *\n",
    "import numpy as np\n",
    "import ipywidgets as wdgs\n",
    "\n",
    "plotly.offline.init_notebook_mode(connected=True)\n",
    "\n",
    "\n",
    "#Solar Sistem Creation\n",
    "sistem = SolarSistem()\n",
    "\n",
    "#Dictionary with all planets\n",
    "planets_dict = {\n",
    "    \"Mercurio\": sistem.planets[0],\n",
    "    \"Venus\": sistem.planets[1],\n",
    "    \"La Tierra\": sistem.planets[2],\n",
    "    \"Marte\": sistem.planets[3],\n",
    "    \"Júpiter\": sistem.planets[4],\n",
    "    \"Saturno\": sistem.planets[5],\n",
    "    \"Urano\": sistem.planets[6],\n",
    "    \"Neptuno\":  sistem.planets[7]\n",
    "}\n",
    "\n",
    "#Interactive Widgets Creation\n",
    "planet_picker = wdgs.Dropdown(options=planets_dict, description=\"Planeta\")\n",
    "day_picker = wdgs.IntText(value=1, description=\"Día\", disabled=False)\n",
    "anomaly_picker = wdgs.FloatSlider(value=0,min = 0, max = 2*math.pi, step = 0.01, \n",
    "                                  description=\"Anomalía Excéntrica\", disabled=False)\n",
    "option = wdgs.Checkbox(description='Unir puntos',value=True)\n",
    "N = wdgs.IntText(value=20, description=\"Número de puntos\", disabled=False)\n",
    "\n",
    "wdgs.interact_manual(showInfo, planet=planet_picker, t=day_picker, u=anomaly_picker,\n",
    "                     opt = option, N = N, description=\"Mostrar información y órbita\")\n"
   ]
  },
  {
   "cell_type": "code",
   "execution_count": null,
   "metadata": {
    "collapsed": false
   },
   "outputs": [],
   "source": []
  },
  {
   "cell_type": "code",
   "execution_count": null,
   "metadata": {
    "collapsed": true
   },
   "outputs": [],
   "source": []
  }
 ],
 "metadata": {
  "kernelspec": {
   "display_name": "Python 3",
   "language": "python",
   "name": "python3"
  },
  "language_info": {
   "codemirror_mode": {
    "name": "ipython",
    "version": 3
   },
   "file_extension": ".py",
   "mimetype": "text/x-python",
   "name": "python",
   "nbconvert_exporter": "python",
   "pygments_lexer": "ipython3",
   "version": "3.6.0"
  },
  "widgets": {
   "state": {
    "ba2bbdff4cff4d0a8f7a9c549b97bab8": {
     "views": [
      {
       "cell_index": 0
      }
     ]
    },
    "c1bda7499a39453d8845e6fae6298022": {
     "views": [
      {
       "cell_index": 1
      }
     ]
    },
    "d2248e39eff1465592206e8f338ed648": {
     "views": [
      {
       "cell_index": 0
      }
     ]
    },
    "f57c7efb79d247208959696bd2a5285d": {
     "views": [
      {
       "cell_index": 0
      }
     ]
    }
   },
   "version": "1.2.0"
  }
 },
 "nbformat": 4,
 "nbformat_minor": 2
}
