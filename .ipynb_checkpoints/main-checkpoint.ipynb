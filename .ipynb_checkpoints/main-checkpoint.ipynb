{
 "cells": [
  {
   "cell_type": "code",
   "execution_count": 1,
   "metadata": {
    "collapsed": false
   },
   "outputs": [
    {
     "data": {
      "text/html": [
       "<script>requirejs.config({paths: { 'plotly': ['https://cdn.plot.ly/plotly-latest.min']},});if(!window.Plotly) {{require(['plotly'],function(plotly) {window.Plotly=plotly;});}}</script>"
      ],
      "text/vnd.plotly.v1+html": [
       "<script>requirejs.config({paths: { 'plotly': ['https://cdn.plot.ly/plotly-latest.min']},});if(!window.Plotly) {{require(['plotly'],function(plotly) {window.Plotly=plotly;});}}</script>"
      ]
     },
     "metadata": {},
     "output_type": "display_data"
    },
    {
     "data": {
      "text/plain": [
       "<function aux.showInfo>"
      ]
     },
     "execution_count": 1,
     "metadata": {},
     "output_type": "execute_result"
    }
   ],
   "source": [
    "import plotly\n",
    "from aux import *\n",
    "from Planets_script import *\n",
    "import numpy as np\n",
    "import ipywidgets as wdgs\n",
    "\n",
    "plotly.offline.init_notebook_mode(connected=True)\n",
    "\n",
    "\n",
    "#Solar Sistem Creation\n",
    "sistem = SolarSistem()\n",
    "\n",
    "#Dictionary with all planets\n",
    "planets_dict = {\n",
    "    \"Mercurio\": sistem.planets[0],\n",
    "    \"Venus\": sistem.planets[1],\n",
    "    \"La Tierra\": sistem.planets[2],\n",
    "    \"Marte\": sistem.planets[3],\n",
    "    \"Júpiter\": sistem.planets[4],\n",
    "    \"Saturno\": sistem.planets[5],\n",
    "    \"Urano\": sistem.planets[6],\n",
    "    \"Neptuno\":  sistem.planets[7]\n",
    "}\n",
    "\n",
    "#Interactive Widgets Creation\n",
    "planet_picker = wdgs.Dropdown(options=planets_dict, description=\"Planeta\")\n",
    "day_picker = wdgs.IntText(value=1, description=\"Día\", disabled=False)\n",
    "anomaly_picker = wdgs.FloatSlider(value=0,min = 0, max = 2*math.pi, step = 0.01, \n",
    "                                  description=\"Anomalía Excéntrica\", disabled=False)\n",
    "option = wdgs.Checkbox(description='Unir puntos',value=True)\n",
    "N = wdgs.IntText(value=20, description=\"Número de puntos\", disabled=False)\n",
    "\n",
    "wdgs.interact_manual(showInfo, planet=planet_picker, t=day_picker, u=anomaly_picker,\n",
    "                     opt = option, N = N, description=\"Mostrar información y órbita\")\n"
   ]
  },
  {
   "cell_type": "code",
   "execution_count": null,
   "metadata": {
    "collapsed": true
   },
   "outputs": [],
   "source": []
  }
 ],
 "metadata": {
  "kernelspec": {
   "display_name": "Python 3",
   "language": "python",
   "name": "python3"
  },
  "language_info": {
   "codemirror_mode": {
    "name": "ipython",
    "version": 3
   },
   "file_extension": ".py",
   "mimetype": "text/x-python",
   "name": "python",
   "nbconvert_exporter": "python",
   "pygments_lexer": "ipython3",
   "version": "3.6.0"
  },
  "widgets": {
   "state": {
    "acb0767cfd4c431dba852f59caa99ea5": {
     "views": [
      {
       "cell_index": 0
      }
     ]
    }
   },
   "version": "1.2.0"
  }
 },
 "nbformat": 4,
 "nbformat_minor": 2
}
