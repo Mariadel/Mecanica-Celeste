{
 "cells": [
  {
   "cell_type": "code",
   "execution_count": 2,
   "metadata": {
    "collapsed": false
   },
   "outputs": [
    {
     "name": "stdout",
     "output_type": "stream",
     "text": [
      "Información para  Mercurio  en el día  1\n",
      "Posición:  [-0.0340081   0.30571437]\n",
      "Distancia al Sol:  0.307600108018\n",
      "Vector velocidad:  [-0.03389271 -0.00312297]\n",
      "Módulo del vector velocidad:  0.0340362903796\n",
      "Anomalía real:  1.185136055539029\n",
      "Energía total (expresión en función del tiempo):  -0.00038201682181\n",
      "0.042436\n",
      "0.387\n",
      "Energía total (expresión constante):  -0.00038201682181\n",
      "Momento angular (expresión en función del tiempo):  [ 0.         0.         0.0104677]\n",
      "Momento angular (expresión constante):  [ 0.         0.         0.0104677]\n",
      "Para una anomalía excéntrica de  0.0 la anomalía real es:  0.0\n",
      "Anomalía excéntrica (mediante el método de Newton-Raphson):  0.0899234598037\n",
      "Anomalía excéntrica (mediante funciones de Bessel):  0.0899225694131\n",
      "La diferencia obtenida entre ambos métodos es:  8.90390609548e-07\n"
     ]
    },
    {
     "data": {
      "application/vnd.plotly.v1+json": {
       "data": [
        {
         "marker": {
          "color": "rgb(0,0,0)",
          "line": {
           "width": 1
          }
         },
         "name": "órbita de Mercurio",
         "type": "scattergl",
         "x": [
          1.8815189713405333e-17,
          -0.37643606341409475,
          -0.1898282679743038,
          0.18982826797430383,
          0.3764360634140947
         ],
         "y": [
          0.30727800000000005,
          -0.03747223123890809,
          -0.4145910630786279,
          -0.4145910630786279,
          -0.037472231238907715
         ]
        },
        {
         "marker": {
          "color": "rgb(250, 100, 0)",
          "line": {
           "color": "rgb(250,100,0)",
           "width": 1
          },
          "size": 20
         },
         "mode": "markers",
         "name": "Mercurio",
         "type": "scattergl",
         "x": [
          -0.03400810396014995
         ],
         "y": [
          0.30571436884416164
         ]
        },
        {
         "marker": {
          "color": "rgb(250, 250, 0)",
          "line": {
           "color": "rgb(100,100,0)",
           "width": 1
          },
          "size": 30
         },
         "mode": "markers",
         "name": "Sol",
         "type": "scattergl",
         "x": [
          0
         ],
         "y": [
          0
         ]
        }
       ],
       "layout": {
        "height": 700,
        "width": 1000,
        "xaxis": {
         "anchor": "y",
         "range": [
          0,
          0
         ]
        },
        "yaxis": {
         "anchor": "x",
         "autorange": false,
         "range": [
          0,
          0
         ]
        }
       }
      },
      "text/html": [
       "<div id=\"7ef2173c-951c-4fb8-94d3-8d21d4932f63\" style=\"height: 700px; width: 1000px;\" class=\"plotly-graph-div\"></div><script type=\"text/javascript\">require([\"plotly\"], function(Plotly) { window.PLOTLYENV=window.PLOTLYENV || {};window.PLOTLYENV.BASE_URL=\"https://plot.ly\";Plotly.newPlot(\"7ef2173c-951c-4fb8-94d3-8d21d4932f63\", [{\"type\": \"scattergl\", \"x\": [1.8815189713405333e-17, -0.37643606341409475, -0.1898282679743038, 0.18982826797430383, 0.3764360634140947], \"y\": [0.30727800000000005, -0.03747223123890809, -0.4145910630786279, -0.4145910630786279, -0.037472231238907715], \"name\": \"\\u00f3rbita de Mercurio\", \"marker\": {\"color\": \"rgb(0,0,0)\", \"line\": {\"width\": 1}}}, {\"type\": \"scattergl\", \"x\": [-0.03400810396014995], \"y\": [0.30571436884416164], \"name\": \"Mercurio\", \"mode\": \"markers\", \"marker\": {\"size\": 20, \"color\": \"rgb(250, 100, 0)\", \"line\": {\"width\": 1, \"color\": \"rgb(250,100,0)\"}}}, {\"type\": \"scattergl\", \"x\": [0], \"y\": [0], \"name\": \"Sol\", \"mode\": \"markers\", \"marker\": {\"size\": 30, \"color\": \"rgb(250, 250, 0)\", \"line\": {\"width\": 1, \"color\": \"rgb(100,100,0)\"}}}], {\"width\": 1000, \"height\": 700, \"xaxis\": {\"anchor\": \"y\", \"range\": [0, 0]}, \"yaxis\": {\"anchor\": \"x\", \"autorange\": false, \"range\": [0, 0]}}, {\"showLink\": true, \"linkText\": \"Export to plot.ly\"})});</script>"
      ],
      "text/vnd.plotly.v1+html": [
       "<div id=\"7ef2173c-951c-4fb8-94d3-8d21d4932f63\" style=\"height: 700px; width: 1000px;\" class=\"plotly-graph-div\"></div><script type=\"text/javascript\">require([\"plotly\"], function(Plotly) { window.PLOTLYENV=window.PLOTLYENV || {};window.PLOTLYENV.BASE_URL=\"https://plot.ly\";Plotly.newPlot(\"7ef2173c-951c-4fb8-94d3-8d21d4932f63\", [{\"type\": \"scattergl\", \"x\": [1.8815189713405333e-17, -0.37643606341409475, -0.1898282679743038, 0.18982826797430383, 0.3764360634140947], \"y\": [0.30727800000000005, -0.03747223123890809, -0.4145910630786279, -0.4145910630786279, -0.037472231238907715], \"name\": \"\\u00f3rbita de Mercurio\", \"marker\": {\"color\": \"rgb(0,0,0)\", \"line\": {\"width\": 1}}}, {\"type\": \"scattergl\", \"x\": [-0.03400810396014995], \"y\": [0.30571436884416164], \"name\": \"Mercurio\", \"mode\": \"markers\", \"marker\": {\"size\": 20, \"color\": \"rgb(250, 100, 0)\", \"line\": {\"width\": 1, \"color\": \"rgb(250,100,0)\"}}}, {\"type\": \"scattergl\", \"x\": [0], \"y\": [0], \"name\": \"Sol\", \"mode\": \"markers\", \"marker\": {\"size\": 30, \"color\": \"rgb(250, 250, 0)\", \"line\": {\"width\": 1, \"color\": \"rgb(100,100,0)\"}}}], {\"width\": 1000, \"height\": 700, \"xaxis\": {\"anchor\": \"y\", \"range\": [0, 0]}, \"yaxis\": {\"anchor\": \"x\", \"autorange\": false, \"range\": [0, 0]}}, {\"showLink\": true, \"linkText\": \"Export to plot.ly\"})});</script>"
      ]
     },
     "metadata": {},
     "output_type": "display_data"
    }
   ],
   "source": [
    "import plotly\n",
    "from aux import *\n",
    "from Planets_script import *\n",
    "import numpy as np\n",
    "import ipywidgets as wdgs\n",
    "\n",
    "plotly.offline.init_notebook_mode(connected=True)\n",
    "\n",
    "\n",
    "#Solar Sistem Creation\n",
    "sistem = SolarSistem()\n",
    "\n",
    "#Dictionary with all planets\n",
    "planets_dict = {\n",
    "    \"Mercurio\": sistem.planets[0],\n",
    "    \"Venus\": sistem.planets[1],\n",
    "    \"La Tierra\": sistem.planets[2],\n",
    "    \"Marte\": sistem.planets[3],\n",
    "    \"Júpiter\": sistem.planets[4],\n",
    "    \"Saturno\": sistem.planets[5],\n",
    "    \"Urano\": sistem.planets[6],\n",
    "    \"Neptuno\":  sistem.planets[7]\n",
    "}\n",
    "\n",
    "#Interactive Widgets Creation\n",
    "planet_picker = wdgs.Dropdown(options=planets_dict, description=\"Planeta\")\n",
    "day_picker = wdgs.IntText(value=1, description=\"Día\", disabled=False)\n",
    "anomaly_picker = wdgs.FloatSlider(value=0,min = 0, max = 2*math.pi, step = 0.01, description=\"Anomalía Excéntrica\", disabled=False)\n",
    "\n",
    "wdgs.interact_manual(showInfo, planet=planet_picker, t=day_picker, u=anomaly_picker,description=\"Mostrar información y órbita\")\n"
   ]
  },
  {
   "cell_type": "code",
   "execution_count": null,
   "metadata": {
    "collapsed": true
   },
   "outputs": [],
   "source": []
  }
 ],
 "metadata": {
  "kernelspec": {
   "display_name": "Python 3",
   "language": "python",
   "name": "python3"
  },
  "language_info": {
   "codemirror_mode": {
    "name": "ipython",
    "version": 3
   },
   "file_extension": ".py",
   "mimetype": "text/x-python",
   "name": "python",
   "nbconvert_exporter": "python",
   "pygments_lexer": "ipython3",
   "version": "3.6.0"
  },
  "widgets": {
   "state": {
    "d2248e39eff1465592206e8f338ed648": {
     "views": [
      {
       "cell_index": 0
      }
     ]
    },
    "f040e31b97824155b745998d06577459": {
     "views": [
      {
       "cell_index": 0
      }
     ]
    }
   },
   "version": "1.2.0"
  }
 },
 "nbformat": 4,
 "nbformat_minor": 2
}
