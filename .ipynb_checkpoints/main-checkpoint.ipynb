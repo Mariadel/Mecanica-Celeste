{
 "cells": [
  {
   "cell_type": "code",
   "execution_count": 1,
   "metadata": {
    "collapsed": false,
    "scrolled": false
   },
   "outputs": [
    {
     "ename": "NameError",
     "evalue": "name 'plotly' is not defined",
     "output_type": "error",
     "traceback": [
      "\u001b[0;31m---------------------------------------------------------------------------\u001b[0m",
      "\u001b[0;31mNameError\u001b[0m                                 Traceback (most recent call last)",
      "\u001b[0;32m<ipython-input-1-cd983a565f98>\u001b[0m in \u001b[0;36m<module>\u001b[0;34m()\u001b[0m\n\u001b[1;32m      2\u001b[0m \u001b[0;32mimport\u001b[0m \u001b[0mipywidgets\u001b[0m \u001b[0;32mas\u001b[0m \u001b[0mwdgs\u001b[0m\u001b[0;34m\u001b[0m\u001b[0m\n\u001b[1;32m      3\u001b[0m \u001b[0;34m\u001b[0m\u001b[0m\n\u001b[0;32m----> 4\u001b[0;31m \u001b[0mplotly\u001b[0m\u001b[0;34m.\u001b[0m\u001b[0moffline\u001b[0m\u001b[0;34m.\u001b[0m\u001b[0minit_notebook_mode\u001b[0m\u001b[0;34m(\u001b[0m\u001b[0mconnected\u001b[0m\u001b[0;34m=\u001b[0m\u001b[0;32mTrue\u001b[0m\u001b[0;34m)\u001b[0m\u001b[0;34m\u001b[0m\u001b[0m\n\u001b[0m\u001b[1;32m      5\u001b[0m \u001b[0;34m\u001b[0m\u001b[0m\n\u001b[1;32m      6\u001b[0m \u001b[0;31m#Solar Sistem Creation\u001b[0m\u001b[0;34m\u001b[0m\u001b[0;34m\u001b[0m\u001b[0m\n",
      "\u001b[0;31mNameError\u001b[0m: name 'plotly' is not defined"
     ]
    }
   ],
   "source": [
    "import plotly\n",
    "from Planets import *\n",
    "import ipywidgets as wdgs\n",
    "\n",
    "plotly.offline.init_notebook_mode(connected=True)\n",
    "\n",
    "#Solar Sistem Creation\n",
    "sistem = SolarSistem()\n",
    "\n",
    "#Dictionary with all planets\n",
    "planets_dict = {\n",
    "    \"Mercurio\": sistem.planets[0],\n",
    "    \"Venus\": sistem.planets[1],\n",
    "    \"La Tierra\": sistem.planets[2],\n",
    "    \"Marte\": sistem.planets[3],\n",
    "    \"Júpiter\": sistem.planets[4],\n",
    "    \"Saturno\": sistem.planets[5],\n",
    "    \"Urano\": sistem.planets[6],\n",
    "    \"Neptuno\":  sistem.planets[7]\n",
    "}\n",
    "\n",
    "#Interactive Widgets Creation\n",
    "planet_picker = wdgs.Dropdown(options=planets_dict, description=\"Planeta\")\n",
    "day_picker = wdgs.IntText(value=1, description=\"Día\", disabled=False)\n",
    "anomaly_picker = wdgs.FloatSlider(value=0,min = 0, max = 2*math.pi, step = 0.01, \n",
    "                                  description=\"Anomalía Excéntrica\", disabled=False)\n",
    "option = wdgs.Checkbox(description='Unir puntos',value=True)\n",
    "N = wdgs.IntText(value=20, description=\"Número de puntos\", disabled=False)\n",
    "\n",
    "wdgs.interact_manual(showInfo, planet=planet_picker, t=day_picker, u=anomaly_picker,\n",
    "                     opt = option, N = N, description=\"Mostrar información y órbita\")"
   ]
  },
  {
   "cell_type": "code",
   "execution_count": null,
   "metadata": {
    "collapsed": true
   },
   "outputs": [],
   "source": []
  }
 ],
 "metadata": {
  "kernelspec": {
   "display_name": "Python 3",
   "language": "python",
   "name": "python3"
  },
  "language_info": {
   "codemirror_mode": {
    "name": "ipython",
    "version": 3
   },
   "file_extension": ".py",
   "mimetype": "text/x-python",
   "name": "python",
   "nbconvert_exporter": "python",
   "pygments_lexer": "ipython3",
   "version": "3.6.0"
  }
 },
 "nbformat": 4,
 "nbformat_minor": 2
}
