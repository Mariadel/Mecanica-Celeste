{
 "cells": [
  {
   "cell_type": "markdown",
   "metadata": {},
   "source": [
    "# Problema de los N cuerpos"
   ]
  },
  {
   "cell_type": "code",
   "execution_count": 4,
   "metadata": {
    "scrolled": false
   },
   "outputs": [
    {
     "data": {
      "text/html": [
       "<script>requirejs.config({paths: { 'plotly': ['https://cdn.plot.ly/plotly-latest.min']},});if(!window.Plotly) {{require(['plotly'],function(plotly) {window.Plotly=plotly;});}}</script>"
      ],
      "text/vnd.plotly.v1+html": [
       "<script>requirejs.config({paths: { 'plotly': ['https://cdn.plot.ly/plotly-latest.min']},});if(!window.Plotly) {{require(['plotly'],function(plotly) {window.Plotly=plotly;});}}</script>"
      ]
     },
     "metadata": {},
     "output_type": "display_data"
    },
    {
     "data": {
      "application/vnd.jupyter.widget-view+json": {
       "model_id": "cf695c173712487e9d6ee2f03288744b",
       "version_major": 2,
       "version_minor": 0
      },
      "text/html": [
       "<p>Failed to display Jupyter Widget of type <code>interactive</code>.</p>\n",
       "<p>\n",
       "  If you're reading this message in the Jupyter Notebook or JupyterLab Notebook, it may mean\n",
       "  that the widgets JavaScript is still loading. If this message persists, it\n",
       "  likely means that the widgets JavaScript library is either not installed or\n",
       "  not enabled. See the <a href=\"https://ipywidgets.readthedocs.io/en/stable/user_install.html\">Jupyter\n",
       "  Widgets Documentation</a> for setup instructions.\n",
       "</p>\n",
       "<p>\n",
       "  If you're reading this message in another frontend (for example, a static\n",
       "  rendering on GitHub or <a href=\"https://nbviewer.jupyter.org/\">NBViewer</a>),\n",
       "  it may mean that your frontend doesn't currently support widgets.\n",
       "</p>\n"
      ],
      "text/plain": [
       "interactive(children=(Dropdown(description='Planeta', options={'Mercurio': <Planets.Planet object at 0x7f1b8e2ff828>, 'Venus': <Planets.Planet object at 0x7f1b8e2ff908>, 'La Tierra': <Planets.Planet object at 0x7f1b8e2ff8d0>, 'Marte': <Planets.Planet object at 0x7f1b8e2ff9e8>, 'Júpiter': <Planets.Planet object at 0x7f1b8e2ffa20>, 'Saturno': <Planets.Planet object at 0x7f1b8e2ff940>, 'Urano': <Planets.Planet object at 0x7f1b8e2ff9b0>, 'Neptuno': <Planets.Planet object at 0x7f1b8e2ff898>}, value=<Planets.Planet object at 0x7f1b8e2ff828>), IntText(value=1, description='Día'), FloatText(value=0.0, description='Anomalía Excéntrica'), Checkbox(value=True, description='Unir puntos'), IntText(value=20, description='Número de puntos'), Button(description='Run Interact', style=ButtonStyle()), Output()), _dom_classes=('widget-interact',))"
      ]
     },
     "metadata": {},
     "output_type": "display_data"
    },
    {
     "data": {
      "text/plain": [
       "<function aux.showInfo>"
      ]
     },
     "execution_count": 4,
     "metadata": {},
     "output_type": "execute_result"
    }
   ],
   "source": [
    "import plotly\n",
    "from Planets import *\n",
    "import ipywidgets as wdgs\n",
    "\n",
    "plotly.offline.init_notebook_mode(connected=True)\n",
    "\n",
    "#Solar Sistem Creation\n",
    "sistem = SolarSistem()\n",
    "\n",
    "#Dictionary with all planets\n",
    "planets_dict = {\n",
    "    \"Mercurio\": sistem.planets[0],\n",
    "    \"Venus\": sistem.planets[1],\n",
    "    \"La Tierra\": sistem.planets[2],\n",
    "    \"Marte\": sistem.planets[3],\n",
    "    \"Júpiter\": sistem.planets[4],\n",
    "    \"Saturno\": sistem.planets[5],\n",
    "    \"Urano\": sistem.planets[6],\n",
    "    \"Neptuno\":  sistem.planets[7]\n",
    "}\n",
    "\n",
    "#Interactive Widgets Creation\n",
    "planet_picker = wdgs.Dropdown(options=planets_dict, description=\"Planeta\")\n",
    "day_picker = wdgs.IntText(value=1, description=\"Día\", disabled=False)\n",
    "a = wdgs.FloatText(value = 0, description = \"Anomalía Excéntrica\", disabled = False)\n",
    "anomaly_picker = wdgs.FloatSlider(value=0,min = 0, max = 2*math.pi+5, step = 0.01, \n",
    "                                  description=\"Anomalía Excéntrica\", disabled=False)\n",
    "option = wdgs.Checkbox(description='Unir puntos',value=True)\n",
    "N = wdgs.IntText(value=20, description=\"Número de puntos\", disabled=False)\n",
    "\n",
    "wdgs.interact_manual(showInfo, planet=planet_picker, t=day_picker, u=a,\n",
    "                     opt = option, N = N, description=\"Mostrar información y órbita\")"
   ]
  },
  {
   "cell_type": "markdown",
   "metadata": {},
   "source": [
    "# Práctica individual"
   ]
  },
  {
   "cell_type": "code",
   "execution_count": 3,
   "metadata": {},
   "outputs": [
    {
     "data": {
      "application/vnd.jupyter.widget-view+json": {
       "model_id": "979994770ec04266a2ddee6c63247528",
       "version_major": 2,
       "version_minor": 0
      },
      "text/html": [
       "<p>Failed to display Jupyter Widget of type <code>interactive</code>.</p>\n",
       "<p>\n",
       "  If you're reading this message in the Jupyter Notebook or JupyterLab Notebook, it may mean\n",
       "  that the widgets JavaScript is still loading. If this message persists, it\n",
       "  likely means that the widgets JavaScript library is either not installed or\n",
       "  not enabled. See the <a href=\"https://ipywidgets.readthedocs.io/en/stable/user_install.html\">Jupyter\n",
       "  Widgets Documentation</a> for setup instructions.\n",
       "</p>\n",
       "<p>\n",
       "  If you're reading this message in another frontend (for example, a static\n",
       "  rendering on GitHub or <a href=\"https://nbviewer.jupyter.org/\">NBViewer</a>),\n",
       "  it may mean that your frontend doesn't currently support widgets.\n",
       "</p>\n"
      ],
      "text/plain": [
       "interactive(children=(Dropdown(description='Planeta', options={'Mercurio': <Planets.Planet_2 object at 0x7f1b8e34b208>, 'Venus': <Planets.Planet_2 object at 0x7f1b8e34b2b0>, 'La Tierra': <Planets.Planet_2 object at 0x7f1b8e34b2e8>, 'Marte': <Planets.Planet_2 object at 0x7f1b8e34b320>, 'Júpiter': <Planets.Planet_2 object at 0x7f1b8e34b358>, 'Saturno': <Planets.Planet_2 object at 0x7f1b8e34b390>, 'Urano': <Planets.Planet_2 object at 0x7f1b8e34b3c8>, 'Neptuno': <Planets.Planet_2 object at 0x7f1b8e34b400>}, value=<Planets.Planet_2 object at 0x7f1b8e34b208>), IntText(value=1, description='Día'), FloatText(value=0.0, description='Anomalía Excéntrica'), Checkbox(value=True, description='Unir puntos'), IntText(value=20, description='Número de puntos'), Button(description='Run Interact', style=ButtonStyle()), Output()), _dom_classes=('widget-interact',))"
      ]
     },
     "metadata": {},
     "output_type": "display_data"
    },
    {
     "data": {
      "text/plain": [
       "<function aux.showInfo_2>"
      ]
     },
     "execution_count": 3,
     "metadata": {},
     "output_type": "execute_result"
    }
   ],
   "source": [
    "#Solar Sistem Creation\n",
    "sistem = SolarSistem_2()\n",
    "\n",
    "#Dictionary with all planets\n",
    "planets_dict = {\n",
    "    \"Mercurio\": sistem.planets[0],\n",
    "    \"Venus\": sistem.planets[1],\n",
    "    \"La Tierra\": sistem.planets[2],\n",
    "    \"Marte\": sistem.planets[3],\n",
    "    \"Júpiter\": sistem.planets[4],\n",
    "    \"Saturno\": sistem.planets[5],\n",
    "    \"Urano\": sistem.planets[6],\n",
    "    \"Neptuno\":  sistem.planets[7]\n",
    "}\n",
    "\n",
    "#Interactive Widgets Creation\n",
    "planet_picker = wdgs.Dropdown(options=planets_dict, description=\"Planeta\")\n",
    "day_picker = wdgs.IntText(value=1, description=\"Día\", disabled=False)\n",
    "a = wdgs.FloatText(value = 0, description = \"Anomalía Excéntrica\", disabled = False)\n",
    "anomaly_picker = wdgs.FloatSlider(value=0,min = 0, max = 2*math.pi+5, step = 0.01, \n",
    "                                  description=\"Anomalía Excéntrica\", disabled=False)\n",
    "option = wdgs.Checkbox(description='Unir puntos',value=True)\n",
    "N = wdgs.IntText(value=20, description=\"Número de puntos\", disabled=False)\n",
    "\n",
    "wdgs.interact_manual(showInfo_2, planet=planet_picker, t=day_picker, u=a,\n",
    "                     opt = option, N = N, description=\"Mostrar información y órbita\")"
   ]
  },
  {
   "cell_type": "code",
   "execution_count": null,
   "metadata": {},
   "outputs": [],
   "source": []
  }
 ],
 "metadata": {
  "kernelspec": {
   "display_name": "Python 3",
   "language": "python",
   "name": "python3"
  },
  "language_info": {
   "codemirror_mode": {
    "name": "ipython",
    "version": 3
   },
   "file_extension": ".py",
   "mimetype": "text/x-python",
   "name": "python",
   "nbconvert_exporter": "python",
   "pygments_lexer": "ipython3",
   "version": "3.6.0"
  },
  "widgets": {
   "state": {
    "8b46b8d54057425ebb770f66804132d2": {
     "views": [
      {
       "cell_index": 0
      }
     ]
    }
   },
   "version": "1.2.0"
  }
 },
 "nbformat": 4,
 "nbformat_minor": 2
}
